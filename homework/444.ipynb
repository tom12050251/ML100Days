 #1. [簡答題] 請問下列程式碼，運算結果分別為何？
import numpy as np
a = np.array( [20,30,40,50] )
b = np.array( [1,2,3,4] ) 
c = 1
d = np.array( [1] )
e = np.array( [1,2] ) 
print(a + a)
print(a + b)
print(a + c)
print(a + d)
print(a + e)

[ 40  60  80 100]
[21 32 43 54]
[21 31 41 51]
[21 31 41 51]
ERROR
[ 40  60  80 100]
[21 32 43 54]
[21 31 41 51]
[21 31 41 51]

#2. 如何在不用迴圈的情況下計算 (A+B)*(-A/2) ？那用迴圈怎麼做？
A = np.ones(3)*1
B = np.ones(3)*2
print(A)
print(B)
print((A+B)*(-A/2))

a = np.ones(3)*1
b = np.ones(3)*2
c = []
for i in a:
 c.append((i+b)*(-a/2))
print(c)

[1. 1. 1.]
[2. 2. 2.]
[-1.5 -1.5 -1.5]
[array([-1.5, -1.5, -1.5]), array([-1.5, -1.5, -1.5]), array([-1.5, -1.5, -1.5])]

# 3. 請問如何計算「1x6 的單位矩陣」和「6x1 的單位矩陣」的內積和外積？
import numpy as np
x = np.ones((1,6))
y = np.ones((6,1))
print(np.dot(x, y))
print(np.outer(x,y))

[[6.]]
[[1. 1. 1. 1. 1. 1.]
 [1. 1. 1. 1. 1. 1.]
 [1. 1. 1. 1. 1. 1.]
 [1. 1. 1. 1. 1. 1.]
 [1. 1. 1. 1. 1. 1.]
 [1. 1. 1. 1. 1. 1.]]
