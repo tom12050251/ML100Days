import numpy as np
np.__version__
np.arange(21) 
a=np.arange(2,21,2)
print(a)
b=np.arange(3,21,3)
print(b)