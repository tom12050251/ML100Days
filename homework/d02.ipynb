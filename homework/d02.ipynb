import numpy as np
array1 = np.array(range(30))
print(array1)
array1.ravel(order='F')
array=array1.reshape((5,6))
print(array)
np.where(array%6==1)
