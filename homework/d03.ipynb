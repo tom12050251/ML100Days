import numpy as np 

#1.正常的談話的聲壓為20000微巴斯卡，請問多少分貝?
#請寫下程式
V1 = 20000
V0 = 20
GdB = 20*np.log10(V1/V0)
GdB

#2.30分貝的聲壓會是50分貝的幾倍?
#公式移項過後可以得到 V1 = ?
#請寫下程式
V0 = 20
np.log10(V0)
# 30 = 20*np.log10(V1/V0) = 20*(np.log10(V1)-np.log10(V0)) 
#VA1=np.log10(V1)=1.5 + np.log10(V0)
VA1 = 1.5 +np.log10(V0)
V1 = np.power(10, VA1)
V1
# 50 = 20*np.log10(V1/V0) = 20*(np.log10(V1)-np.log10(V0)) 
#VA1=np.log10(V1)=2.5 + np.log10(V0)
VA2= 2.5 +np.log10(V0)
V2 = np.power(10, VA2)
V2
V1 / V2